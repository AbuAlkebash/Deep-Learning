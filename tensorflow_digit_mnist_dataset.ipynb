{
  "nbformat": 4,
  "nbformat_minor": 5,
  "metadata": {
    "kernelspec": {
      "display_name": "Python 3",
      "language": "python",
      "name": "python3"
    },
    "language_info": {
      "codemirror_mode": {
        "name": "ipython",
        "version": 3
      },
      "file_extension": ".py",
      "mimetype": "text/x-python",
      "name": "python",
      "nbconvert_exporter": "python",
      "pygments_lexer": "ipython3",
      "version": "3.8.5"
    },
    "colab": {
      "name": "tensorflow_digit_mnist_dataset.ipynb",
      "provenance": [],
      "collapsed_sections": [
        "7T803N-T0H81",
        "FtgV9xOq071e",
        "otzH4jCe3qs7"
      ],
      "include_colab_link": true
    }
  },
  "cells": [
    {
      "cell_type": "markdown",
      "metadata": {
        "id": "view-in-github",
        "colab_type": "text"
      },
      "source": [
        "<a href=\"https://colab.research.google.com/github/Humam-PS/Deep-Learning/blob/main/tensorflow_digit_mnist_dataset.ipynb\" target=\"_parent\"><img src=\"https://colab.research.google.com/assets/colab-badge.svg\" alt=\"Open In Colab\"/></a>"
      ]
    },
    {
      "cell_type": "markdown",
      "metadata": {
        "id": "vjzRKQQ8o7xX"
      },
      "source": [
        "# Importing Our Own Python Modules or Files into Colab"
      ],
      "id": "vjzRKQQ8o7xX"
    },
    {
      "cell_type": "markdown",
      "metadata": {
        "id": "7T803N-T0H81"
      },
      "source": [
        "## 1) Mount your google drive in google colab"
      ],
      "id": "7T803N-T0H81"
    },
    {
      "cell_type": "code",
      "metadata": {
        "colab": {
          "base_uri": "https://localhost:8080/"
        },
        "id": "CwPByMOooY_x",
        "outputId": "5ec8da3e-4341-4b0e-f24d-18217bdd5068"
      },
      "source": [
        "from google.colab import drive\r\n",
        "drive.mount('/content/drive')"
      ],
      "id": "CwPByMOooY_x",
      "execution_count": null,
      "outputs": [
        {
          "output_type": "stream",
          "text": [
            "Mounted at /content/drive\n"
          ],
          "name": "stdout"
        }
      ]
    },
    {
      "cell_type": "markdown",
      "metadata": {
        "id": "FtgV9xOq071e"
      },
      "source": [
        "## 2) We'll need to update our path to import from Drive."
      ],
      "id": "FtgV9xOq071e"
    },
    {
      "cell_type": "code",
      "metadata": {
        "id": "zpXV1lTPpkD6"
      },
      "source": [
        "import sys\r\n",
        "sys.path.append('/content/drive/MyDrive/Colab Notebooks/')"
      ],
      "id": "zpXV1lTPpkD6",
      "execution_count": null,
      "outputs": []
    },
    {
      "cell_type": "markdown",
      "metadata": {
        "id": "AocZIsWK1Fi2"
      },
      "source": [
        "## 3) Now, we can be able to import our modules or files stuff from drive"
      ],
      "id": "AocZIsWK1Fi2"
    },
    {
      "cell_type": "code",
      "metadata": {
        "id": "sSeWU7qeOTyh"
      },
      "source": [
        "### To import using the following code lines, *.py files should be in drive ###\r\n",
        "# from myplts import plt_bar, plt_img"
      ],
      "id": "sSeWU7qeOTyh",
      "execution_count": null,
      "outputs": []
    },
    {
      "cell_type": "code",
      "metadata": {
        "id": "1sZ47Ys1OeYT",
        "colab": {
          "base_uri": "https://localhost:8080/"
        },
        "outputId": "a1b850b0-ac33-492b-cd0d-b1f52e11d5b2"
      },
      "source": [
        "### You can import *.ipynb files directly ### - Here, install library\r\n",
        "\r\n",
        "# Method_01\r\n",
        "!pip install kora -q\r\n",
        "from kora import drive\r\n",
        "drive.link_nbs()\r\n",
        "\r\n",
        "from myplts import plt_bar, plt_img\r\n",
        "\r\n",
        "# Method_02\r\n",
        "#!cp -r \"/content/drive/MyDrive/Colab Notebooks/myplts.ipynb\" '/content/'"
      ],
      "id": "1sZ47Ys1OeYT",
      "execution_count": null,
      "outputs": [
        {
          "output_type": "execute_result",
          "data": {
            "text/plain": [
              "<function myplts.plt_bar>"
            ]
          },
          "metadata": {
            "tags": []
          },
          "execution_count": 5
        }
      ]
    },
    {
      "cell_type": "markdown",
      "metadata": {
        "id": "otzH4jCe3qs7"
      },
      "source": [
        "# Main Code"
      ],
      "id": "otzH4jCe3qs7"
    },
    {
      "cell_type": "code",
      "metadata": {
        "id": "civil-detail"
      },
      "source": [
        "# ************************************************************************************************\n",
        "# ******************    IMPORT MODULES    ********************************************************\n",
        "# ************************************************************************************************"
      ],
      "id": "civil-detail",
      "execution_count": null,
      "outputs": []
    },
    {
      "cell_type": "code",
      "metadata": {
        "id": "southwest-highway"
      },
      "source": [
        "# import tensorflow and Keras\n",
        "import tensorflow as tf\n",
        "from tensorflow import keras"
      ],
      "id": "southwest-highway",
      "execution_count": null,
      "outputs": []
    },
    {
      "cell_type": "code",
      "metadata": {
        "id": "critical-drain"
      },
      "source": [
        "# import matplotlib and numpy\n",
        "import matplotlib.pyplot as plt\n",
        "import numpy as np"
      ],
      "id": "critical-drain",
      "execution_count": null,
      "outputs": []
    },
    {
      "cell_type": "code",
      "metadata": {
        "id": "municipal-sound",
        "colab": {
          "base_uri": "https://localhost:8080/"
        },
        "outputId": "5b495c31-821b-42be-f5d7-160c2b388f35"
      },
      "source": [
        "# print version of tensorflow framework\n",
        "print(tf.__version__)"
      ],
      "id": "municipal-sound",
      "execution_count": null,
      "outputs": [
        {
          "output_type": "stream",
          "text": [
            "2.4.1\n"
          ],
          "name": "stdout"
        }
      ]
    },
    {
      "cell_type": "code",
      "metadata": {
        "id": "primary-correspondence"
      },
      "source": [
        "# ************************************************************************************************\n",
        "# ******************    LOADING DATA SETS (TRAINING SET & TEST SET)    ***************************\n",
        "# ************************************************************************************************"
      ],
      "id": "primary-correspondence",
      "execution_count": null,
      "outputs": []
    },
    {
      "cell_type": "code",
      "metadata": {
        "id": "disciplinary-pricing",
        "colab": {
          "base_uri": "https://localhost:8080/"
        },
        "outputId": "9a76c5b9-09fe-42c7-f0cc-5850e52e45ea"
      },
      "source": [
        "# import the  MNIST dataset\n",
        "digit_mnist = keras.datasets.mnist\n",
        "\n",
        "# Loading the MNIST dataset in Keras\n",
        "(train_images, train_labels), (test_images, test_labels) = digit_mnist.load_data()"
      ],
      "id": "disciplinary-pricing",
      "execution_count": null,
      "outputs": [
        {
          "output_type": "stream",
          "text": [
            "Downloading data from https://storage.googleapis.com/tensorflow/tf-keras-datasets/mnist.npz\n",
            "11493376/11490434 [==============================] - 0s 0us/step\n"
          ],
          "name": "stdout"
        }
      ]
    },
    {
      "cell_type": "code",
      "metadata": {
        "id": "pacific-abortion",
        "colab": {
          "base_uri": "https://localhost:8080/"
        },
        "outputId": "7e720bf7-cc04-44be-a18c-e0535a4a085d"
      },
      "source": [
        "# Let’s look at the training data (images)\n",
        "train_images.shape    # images are encoded as Numpy arrays of shape (60000, 28, 28) of type uint8 [0-255]"
      ],
      "id": "pacific-abortion",
      "execution_count": null,
      "outputs": [
        {
          "output_type": "execute_result",
          "data": {
            "text/plain": [
              "(60000, 28, 28)"
            ]
          },
          "metadata": {
            "tags": []
          },
          "execution_count": 12
        }
      ]
    },
    {
      "cell_type": "code",
      "metadata": {
        "id": "ongoing-filename",
        "colab": {
          "base_uri": "https://localhost:8080/"
        },
        "outputId": "bc190797-1217-4239-909b-835bb3ea547b"
      },
      "source": [
        "# Let’s look at the training data (labels = expected output)\n",
        "print(len(train_labels))   # train_labels: array of digits, ranging from 0 to 9.\n",
        "train_labels               # The images and labels have a one-to-one correspondence."
      ],
      "id": "ongoing-filename",
      "execution_count": null,
      "outputs": [
        {
          "output_type": "stream",
          "text": [
            "60000\n"
          ],
          "name": "stdout"
        },
        {
          "output_type": "execute_result",
          "data": {
            "text/plain": [
              "array([5, 0, 4, ..., 5, 6, 8], dtype=uint8)"
            ]
          },
          "metadata": {
            "tags": []
          },
          "execution_count": 13
        }
      ]
    },
    {
      "cell_type": "code",
      "metadata": {
        "id": "backed-union",
        "colab": {
          "base_uri": "https://localhost:8080/"
        },
        "outputId": "daf23ddd-6ffb-4b05-9d5f-f529e0a7890a"
      },
      "source": [
        "# Let’s look at the test data (images)\n",
        "test_images.shape    # images are encoded as Numpy arrays of shape (10000, 28, 28) of type uint8 [0-255]"
      ],
      "id": "backed-union",
      "execution_count": null,
      "outputs": [
        {
          "output_type": "execute_result",
          "data": {
            "text/plain": [
              "(10000, 28, 28)"
            ]
          },
          "metadata": {
            "tags": []
          },
          "execution_count": 14
        }
      ]
    },
    {
      "cell_type": "code",
      "metadata": {
        "id": "apparent-value",
        "colab": {
          "base_uri": "https://localhost:8080/"
        },
        "outputId": "881aee9a-6b15-43f6-f883-ac144f65d49f"
      },
      "source": [
        "# Let’s look at the test data (labels = expected output)\n",
        "print(len(test_labels))   # test_labels: array of digits, ranging from 0 to 9.\n",
        "test_labels               # The images and labels have a one-to-one correspondence."
      ],
      "id": "apparent-value",
      "execution_count": null,
      "outputs": [
        {
          "output_type": "stream",
          "text": [
            "10000\n"
          ],
          "name": "stdout"
        },
        {
          "output_type": "execute_result",
          "data": {
            "text/plain": [
              "array([7, 2, 1, ..., 4, 5, 6], dtype=uint8)"
            ]
          },
          "metadata": {
            "tags": []
          },
          "execution_count": 15
        }
      ]
    },
    {
      "cell_type": "code",
      "metadata": {
        "id": "valuable-template"
      },
      "source": [
        "# ************************************************************************************************\n",
        "# ******************    VISUALIZE DATA SET (TRAINING SET)    *************************************\n",
        "# ************************************************************************************************"
      ],
      "id": "valuable-template",
      "execution_count": null,
      "outputs": []
    },
    {
      "cell_type": "code",
      "metadata": {
        "id": "imported-break",
        "colab": {
          "base_uri": "https://localhost:8080/",
          "height": 1000
        },
        "outputId": "7fc9378d-b32c-4c35-fb06-3ef4f63ad137"
      },
      "source": [
        "# Lets visualize one sample from train_images:\n",
        "\n",
        "sample = 5                        # sample index\n",
        "\n",
        "plt.figure()\n",
        "plt.imshow(train_images[sample])\n",
        "plt.colorbar()                    # pixel intensity [0-255]\n",
        "plt.show()\n",
        "\n",
        "# Also we can see its matrix value\n",
        "train_images[sample]              # each pixel of type uint8 with pixel intensity [0-255]"
      ],
      "id": "imported-break",
      "execution_count": null,
      "outputs": [
        {
          "output_type": "display_data",
          "data": {
            "image/png": "[encoded data removed]",
            "text/plain": [
              "<Figure size 432x288 with 2 Axes>"
            ]
          },
          "metadata": {
            "tags": [],
            "needs_background": "light"
          }
        },
        {
          "output_type": "execute_result",
          "data": {
            "text/plain": [
              "array([[  0,   0,   0,   0,   0,   0,   0,   0,   0,   0,   0,   0,   0,\n",
              "          0,   0,   0,   0,   0,   0,   0,   0,   0,   0,   0,   0,   0,\n",
              "          0,   0],\n",
              "       [  0,   0,   0,   0,   0,   0,   0,   0,   0,   0,   0,   0,   0,\n",
              "          0,   0,   0,   0,   0,   0,   0,   0,   0,   0,   0,   0,   0,\n",
              "          0,   0],\n",
              "       [  0,   0,   0,   0,   0,   0,   0,   0,   0,   0,   0,   0,   0,\n",
              "          0,   0,   0,   0,   0,   0,   0,   0,   0,   0,   0,   0,   0,\n",
              "          0,   0],\n",
              "       [  0,   0,   0,   0,   0,   0,   0,   0,   0,   0,   0,   0,   0,\n",
              "          0,   0,   0,   0,   0,   0,   0,   0,   0,   0,   0,   0,   0,\n",
              "          0,   0],\n",
              "       [  0,   0,   0,   0,   0,   0,   0,   0,   0,   0,   0,   0,   0,\n",
              "          0,   0,   0,   0,   0,   0,   0,   0,   0,   0,   0,   0,   0,\n",
              "          0,   0],\n",
              "       [  0,   0,   0,   0,   0,   0,   0,   0,   0,   0,   0,   0,   0,\n",
              "          0,   0,  13,  25, 100, 122,   7,   0,   0,   0,   0,   0,   0,\n",
              "          0,   0],\n",
              "       [  0,   0,   0,   0,   0,   0,   0,   0,   0,   0,   0,   0,   0,\n",
              "         33, 151, 208, 252, 252, 252, 146,   0,   0,   0,   0,   0,   0,\n",
              "          0,   0],\n",
              "       [  0,   0,   0,   0,   0,   0,   0,   0,   0,   0,   0,  40, 152,\n",
              "        244, 252, 253, 224, 211, 252, 232,  40,   0,   0,   0,   0,   0,\n",
              "          0,   0],\n",
              "       [  0,   0,   0,   0,   0,   0,   0,   0,   0,  15, 152, 239, 252,\n",
              "        252, 252, 216,  31,  37, 252, 252,  60,   0,   0,   0,   0,   0,\n",
              "          0,   0],\n",
              "       [  0,   0,   0,   0,   0,   0,   0,   0,   0,  96, 252, 252, 252,\n",
              "        252, 217,  29,   0,  37, 252, 252,  60,   0,   0,   0,   0,   0,\n",
              "          0,   0],\n",
              "       [  0,   0,   0,   0,   0,   0,   0,   0,   0, 181, 252, 252, 220,\n",
              "        167,  30,   0,   0,  77, 252, 252,  60,   0,   0,   0,   0,   0,\n",
              "          0,   0],\n",
              "       [  0,   0,   0,   0,   0,   0,   0,   0,   0,  26, 128,  58,  22,\n",
              "          0,   0,   0,   0, 100, 252, 252,  60,   0,   0,   0,   0,   0,\n",
              "          0,   0],\n",
              "       [  0,   0,   0,   0,   0,   0,   0,   0,   0,   0,   0,   0,   0,\n",
              "          0,   0,   0,   0, 157, 252, 252,  60,   0,   0,   0,   0,   0,\n",
              "          0,   0],\n",
              "       [  0,   0,   0,   0,   0,   0,   0,   0,   0,   0,   0,   0,   0,\n",
              "        110, 121, 122, 121, 202, 252, 194,   3,   0,   0,   0,   0,   0,\n",
              "          0,   0],\n",
              "       [  0,   0,   0,   0,   0,   0,   0,   0,   0,   0,  10,  53, 179,\n",
              "        253, 253, 255, 253, 253, 228,  35,   0,   0,   0,   0,   0,   0,\n",
              "          0,   0],\n",
              "       [  0,   0,   0,   0,   0,   0,   0,   0,   5,  54, 227, 252, 243,\n",
              "        228, 170, 242, 252, 252, 231, 117,   6,   0,   0,   0,   0,   0,\n",
              "          0,   0],\n",
              "       [  0,   0,   0,   0,   0,   0,   0,   6,  78, 252, 252, 125,  59,\n",
              "          0,  18, 208, 252, 252, 252, 252,  87,   7,   0,   0,   0,   0,\n",
              "          0,   0],\n",
              "       [  0,   0,   0,   0,   0,   0,   5, 135, 252, 252, 180,  16,   0,\n",
              "         21, 203, 253, 247, 129, 173, 252, 252, 184,  66,  49,  49,   0,\n",
              "          0,   0],\n",
              "       [  0,   0,   0,   0,   0,   3, 136, 252, 241, 106,  17,   0,  53,\n",
              "        200, 252, 216,  65,   0,  14,  72, 163, 241, 252, 252, 223,   0,\n",
              "          0,   0],\n",
              "       [  0,   0,   0,   0,   0, 105, 252, 242,  88,  18,  73, 170, 244,\n",
              "        252, 126,  29,   0,   0,   0,   0,   0,  89, 180, 180,  37,   0,\n",
              "          0,   0],\n",
              "       [  0,   0,   0,   0,   0, 231, 252, 245, 205, 216, 252, 252, 252,\n",
              "        124,   3,   0,   0,   0,   0,   0,   0,   0,   0,   0,   0,   0,\n",
              "          0,   0],\n",
              "       [  0,   0,   0,   0,   0, 207, 252, 252, 252, 252, 178, 116,  36,\n",
              "          4,   0,   0,   0,   0,   0,   0,   0,   0,   0,   0,   0,   0,\n",
              "          0,   0],\n",
              "       [  0,   0,   0,   0,   0,  13,  93, 143, 121,  23,   6,   0,   0,\n",
              "          0,   0,   0,   0,   0,   0,   0,   0,   0,   0,   0,   0,   0,\n",
              "          0,   0],\n",
              "       [  0,   0,   0,   0,   0,   0,   0,   0,   0,   0,   0,   0,   0,\n",
              "          0,   0,   0,   0,   0,   0,   0,   0,   0,   0,   0,   0,   0,\n",
              "          0,   0],\n",
              "       [  0,   0,   0,   0,   0,   0,   0,   0,   0,   0,   0,   0,   0,\n",
              "          0,   0,   0,   0,   0,   0,   0,   0,   0,   0,   0,   0,   0,\n",
              "          0,   0],\n",
              "       [  0,   0,   0,   0,   0,   0,   0,   0,   0,   0,   0,   0,   0,\n",
              "          0,   0,   0,   0,   0,   0,   0,   0,   0,   0,   0,   0,   0,\n",
              "          0,   0],\n",
              "       [  0,   0,   0,   0,   0,   0,   0,   0,   0,   0,   0,   0,   0,\n",
              "          0,   0,   0,   0,   0,   0,   0,   0,   0,   0,   0,   0,   0,\n",
              "          0,   0],\n",
              "       [  0,   0,   0,   0,   0,   0,   0,   0,   0,   0,   0,   0,   0,\n",
              "          0,   0,   0,   0,   0,   0,   0,   0,   0,   0,   0,   0,   0,\n",
              "          0,   0]], dtype=uint8)"
            ]
          },
          "metadata": {
            "tags": []
          },
          "execution_count": 17
        }
      ]
    },
    {
      "cell_type": "code",
      "metadata": {
        "id": "lesbian-stomach",
        "colab": {
          "base_uri": "https://localhost:8080/",
          "height": 588
        },
        "outputId": "30866896-1c49-4670-ec88-c76ad9689932"
      },
      "source": [
        "# Lets visualize the first 25 samples from train_images:\n",
        "\n",
        "digits = range(10) # create sorted list [0-9].\n",
        "\n",
        "plt.figure(figsize=(10,10))\n",
        "for i in range(25):\n",
        "    plt.subplot(5,5,i+1)\n",
        "    plt.xticks([])\n",
        "    plt.yticks([])\n",
        "    plt.grid(False)\n",
        "    plt.imshow(train_images[i], cmap = plt.cm.binary)\n",
        "    plt.xlabel(digits[train_labels[i]])\n",
        "plt.show()"
      ],
      "id": "lesbian-stomach",
      "execution_count": null,
      "outputs": [
        {
          "output_type": "display_data",
          "data": {
            "image/png": "[encoded data removed]",
            "text/plain": [
              "<Figure size 720x720 with 25 Axes>"
            ]
          },
          "metadata": {
            "tags": []
          }
        }
      ]
    },
    {
      "cell_type": "code",
      "metadata": {
        "id": "patient-surname"
      },
      "source": [
        "# ************************************************************************************************\n",
        "# ******************    PREPROCESS THE DATASETs    ***********************************************\n",
        "# ************    into the shape the network expects    ******************************************\n",
        "# ************************************************************************************************"
      ],
      "id": "patient-surname",
      "execution_count": null,
      "outputs": []
    },
    {
      "cell_type": "code",
      "metadata": {
        "id": "bigger-direction"
      },
      "source": [
        "#1 PREPARING THE IMAGE DATA *********\n",
        "\n",
        "# reshape data set into the shape the network expects:\n",
        "train_images = train_images.reshape((60000, 28*28))\n",
        "test_images  = test_images.reshape((10000, 28*28))\n",
        "\n",
        "# transform data set into a float32 and scale each value to be in the [0, 1] interval\n",
        "train_images = train_images.astype('float32') /255\n",
        "test_images  = test_images.astype('float32') / 255"
      ],
      "id": "bigger-direction",
      "execution_count": null,
      "outputs": []
    },
    {
      "cell_type": "code",
      "metadata": {
        "id": "nutritional-think",
        "colab": {
          "base_uri": "https://localhost:8080/"
        },
        "outputId": "a7b204a1-19ef-4e0e-909b-11c0dc21cbe3"
      },
      "source": [
        "print(train_images.shape)\n",
        "train_images"
      ],
      "id": "nutritional-think",
      "execution_count": null,
      "outputs": [
        {
          "output_type": "stream",
          "text": [
            "(60000, 784)\n"
          ],
          "name": "stdout"
        },
        {
          "output_type": "execute_result",
          "data": {
            "text/plain": [
              "array([[0., 0., 0., ..., 0., 0., 0.],\n",
              "       [0., 0., 0., ..., 0., 0., 0.],\n",
              "       [0., 0., 0., ..., 0., 0., 0.],\n",
              "       ...,\n",
              "       [0., 0., 0., ..., 0., 0., 0.],\n",
              "       [0., 0., 0., ..., 0., 0., 0.],\n",
              "       [0., 0., 0., ..., 0., 0., 0.]], dtype=float32)"
            ]
          },
          "metadata": {
            "tags": []
          },
          "execution_count": 21
        }
      ]
    },
    {
      "cell_type": "code",
      "metadata": {
        "id": "sought-harvey"
      },
      "source": [
        "#2 PREPARING THE LABELS ********* we need to categorically encode the labels\n",
        "\n",
        "to_categorical = keras.utils.to_categorical\n",
        "\n",
        "train_labels = to_categorical(train_labels)\n",
        "test_labels  = to_categorical(test_labels)\n"
      ],
      "id": "sought-harvey",
      "execution_count": null,
      "outputs": []
    },
    {
      "cell_type": "code",
      "metadata": {
        "id": "challenging-albany"
      },
      "source": [
        "# ************************************************************************************************\n",
        "# ******************    NETWORK ARCHITECTURE (SET UP THE LAYERS)    ******************************\n",
        "# ************************************************************************************************"
      ],
      "id": "challenging-albany",
      "execution_count": null,
      "outputs": []
    },
    {
      "cell_type": "code",
      "metadata": {
        "id": "musical-gender"
      },
      "source": [
        "# define neural_network (define the keras model), it's not optimal, It has to be optimized\n",
        "\n",
        "# Hidden Layer - Dense fully connected layer of 512 nodes (relu)\n",
        "# Output Layer - Dense fully connected layer of 10 nodes (softmax)\n",
        "#                returns an array of 10 probability scores (summing to 1)"
      ],
      "id": "musical-gender",
      "execution_count": null,
      "outputs": []
    },
    {
      "cell_type": "code",
      "metadata": {
        "id": "orange-violence"
      },
      "source": [
        "'''\n",
        "model = keras.Sequential()\n",
        "model.add(keras.layers.Dense(512, activation='relu', input_shape=(28*28,)))\n",
        "model.add(keras.layers.Dense(10,  activation='softmax'))\n",
        "'''\n",
        "\n",
        "model = keras.Sequential([\n",
        "    keras.layers.Dense(512, activation='relu', input_shape=(28*28,)),\n",
        "    keras.layers.Dense(10,  activation='softmax')\n",
        "])\n"
      ],
      "id": "orange-violence",
      "execution_count": null,
      "outputs": []
    },
    {
      "cell_type": "code",
      "metadata": {
        "id": "sought-senate"
      },
      "source": [
        "# ************************************************************************************************\n",
        "# ******************    COMPILE AND OPTIMIZE THE MODEL    ****************************************\n",
        "# ************************************************************************************************"
      ],
      "id": "sought-senate",
      "execution_count": null,
      "outputs": []
    },
    {
      "cell_type": "code",
      "metadata": {
        "id": "identical-snapshot"
      },
      "source": [
        "# we need to pick three more things, as part of the compilation step:\n",
        "    # 1- loss function - Measures the quality of the Network's output on the training data.\n",
        "    # 2- Optimizer     - mechanism to update the values of the weights of the network.\n",
        "    # 3- Metrics       - monitors the training to determine when stop"
      ],
      "id": "identical-snapshot",
      "execution_count": null,
      "outputs": []
    },
    {
      "cell_type": "code",
      "metadata": {
        "id": "marine-agreement"
      },
      "source": [
        "# Compile the model\n",
        "model.compile(\n",
        "    optimizer = 'rmsprop',\n",
        "    loss      = 'categorical_crossentropy',\n",
        "    metrics   = ['accuracy']\n",
        ")"
      ],
      "id": "marine-agreement",
      "execution_count": null,
      "outputs": []
    },
    {
      "cell_type": "code",
      "metadata": {
        "id": "promotional-template"
      },
      "source": [
        "# ************************************************************************************************\n",
        "# ******************    TRAINING THE NEURON MODEL    *********************************************\n",
        "# ************************************************************************************************"
      ],
      "id": "promotional-template",
      "execution_count": null,
      "outputs": []
    },
    {
      "cell_type": "code",
      "metadata": {
        "id": "satellite-racing"
      },
      "source": [
        "# Train the neural network: fit the neuron model to the training data\n",
        "\n",
        "# We are going to train the models in 5 epochs (that is a complete presentation of the trainging dataset)\n",
        "# This means that we would feed the 60,000 images and labels into the network 5 different times\n",
        "# No. of epochs = No. of training loops.\n",
        "# In each epoch, the accuracy is increased\n",
        "# For each epoch we would see both the loss and the accuracy of the model."
      ],
      "id": "satellite-racing",
      "execution_count": null,
      "outputs": []
    },
    {
      "cell_type": "code",
      "metadata": {
        "id": "becoming-analysis",
        "colab": {
          "base_uri": "https://localhost:8080/"
        },
        "outputId": "468037b2-e5a4-4257-ad78-3a7e94437751"
      },
      "source": [
        "# Model is being trained on 1875 batches of 32 images each. (1875 batches * 32 images = 60,000 images)\n",
        "model.fit(train_images, train_labels, epochs=5, batch_size=128)"
      ],
      "id": "becoming-analysis",
      "execution_count": null,
      "outputs": [
        {
          "output_type": "stream",
          "text": [
            "Epoch 1/5\n",
            "469/469 [==============================] - 4s 8ms/step - loss: 0.4255 - accuracy: 0.8791\n",
            "Epoch 2/5\n",
            "469/469 [==============================] - 4s 8ms/step - loss: 0.1139 - accuracy: 0.9663\n",
            "Epoch 3/5\n",
            "469/469 [==============================] - 3s 7ms/step - loss: 0.0685 - accuracy: 0.9795\n",
            "Epoch 4/5\n",
            "469/469 [==============================] - 3s 7ms/step - loss: 0.0469 - accuracy: 0.9871\n",
            "Epoch 5/5\n",
            "469/469 [==============================] - 4s 8ms/step - loss: 0.0361 - accuracy: 0.9892\n"
          ],
          "name": "stdout"
        },
        {
          "output_type": "execute_result",
          "data": {
            "text/plain": [
              "<tensorflow.python.keras.callbacks.History at 0x7f69bffba490>"
            ]
          },
          "metadata": {
            "tags": []
          },
          "execution_count": 31
        }
      ]
    },
    {
      "cell_type": "code",
      "metadata": {
        "id": "latest-delta"
      },
      "source": [
        "# ************************************************************************************************\n",
        "# ******************    (TEST) EVALUATE THE NEURON MODEL    **************************************\n",
        "# ************************************************************************************************"
      ],
      "id": "latest-delta",
      "execution_count": null,
      "outputs": []
    },
    {
      "cell_type": "code",
      "metadata": {
        "id": "incorporated-haven",
        "colab": {
          "base_uri": "https://localhost:8080/"
        },
        "outputId": "8bc524b3-cb7f-43c4-a356-2e65627f9a3d"
      },
      "source": [
        "test_loss, test_acc, = model.evaluate(test_images, test_labels)"
      ],
      "id": "incorporated-haven",
      "execution_count": null,
      "outputs": [
        {
          "output_type": "stream",
          "text": [
            "313/313 [==============================] - 1s 2ms/step - loss: 0.0680 - accuracy: 0.9791\n"
          ],
          "name": "stdout"
        }
      ]
    },
    {
      "cell_type": "code",
      "metadata": {
        "id": "functional-relaxation"
      },
      "source": [
        "# ************************************************************************************************\n",
        "# ***********************    MAKE PREDICTION    **************************************************\n",
        "# ************************************************************************************************"
      ],
      "id": "functional-relaxation",
      "execution_count": null,
      "outputs": []
    },
    {
      "cell_type": "code",
      "metadata": {
        "id": "prescription-fossil",
        "colab": {
          "base_uri": "https://localhost:8080/"
        },
        "outputId": "1c91ff8b-a24f-4def-ad33-0e419f0fe83a"
      },
      "source": [
        "# Predict the class of each image, since we have an optimized model now.\n",
        "predictions = model.predict(test_images)\n",
        "predictions.shape  # Each prediction for each image has 10 probability scores."
      ],
      "id": "prescription-fossil",
      "execution_count": null,
      "outputs": [
        {
          "output_type": "execute_result",
          "data": {
            "text/plain": [
              "(10000, 10)"
            ]
          },
          "metadata": {
            "tags": []
          },
          "execution_count": 35
        }
      ]
    },
    {
      "cell_type": "code",
      "metadata": {
        "id": "varied-arrest"
      },
      "source": [
        "# ************************************************************************************************\n",
        "# ******************    LOADING DATA SETS (TEST SET) FOR VISUALIZATION    ************************\n",
        "# ************************************************************************************************"
      ],
      "id": "varied-arrest",
      "execution_count": null,
      "outputs": []
    },
    {
      "cell_type": "code",
      "metadata": {
        "id": "engaged-limitation"
      },
      "source": [
        "# we need to reload the original dataset to use it with plot function\n",
        "# where reshape and process the previous one, and it format not valid for ploting"
      ],
      "id": "engaged-limitation",
      "execution_count": null,
      "outputs": []
    },
    {
      "cell_type": "code",
      "metadata": {
        "id": "moved-storage"
      },
      "source": [
        "# import the  MNIST dataset\n",
        "digit_mnist = keras.datasets.mnist\n",
        "\n",
        "# Loading the MNIST dataset in Keras\n",
        "(train_images, train_labels), (test_images, test_labels) = digit_mnist.load_data()"
      ],
      "id": "moved-storage",
      "execution_count": null,
      "outputs": []
    },
    {
      "cell_type": "code",
      "metadata": {
        "id": "induced-matthew"
      },
      "source": [
        "# ************************************************************************************************\n",
        "# **********    VISUALIZATION FOR MANUAL CHECKING (BY EYES)    ***********************************\n",
        "# ************************************************************************************************"
      ],
      "id": "induced-matthew",
      "execution_count": null,
      "outputs": []
    },
    {
      "cell_type": "code",
      "metadata": {
        "id": "electronic-third",
        "colab": {
          "base_uri": "https://localhost:8080/",
          "height": 301
        },
        "outputId": "8ce675e6-45d1-473a-9b3b-dac3372c2930"
      },
      "source": [
        "# Each prediction is an array of 10 numbers (# of classes). Each number represents the confidence that the\n",
        "# image corresponds to the each of the 10 different classes.\n",
        "\n",
        "sample = 32\n",
        "print(predictions[sample])\n",
        "# [depends on the trained model]: we see that test_images[25] has high likelihood at class [6] = 43.82%:\n",
        "\n",
        "# Check the model's prediction for the specified sample (manually by our eyes).\n",
        "# Compare number in the image with the maximum probability index from the array.\n",
        "plt.figure()\n",
        "plt.imshow(test_images[sample]) # cmap=plt.cm.binary\n",
        "plt.colorbar()\n",
        "plt.show()"
      ],
      "id": "electronic-third",
      "execution_count": null,
      "outputs": [
        {
          "output_type": "stream",
          "text": [
            "[6.2414931e-14 6.8757078e-10 6.3832726e-09 9.9999821e-01 1.4152816e-11\n",
            " 1.6287968e-06 3.1484984e-14 6.6351330e-10 1.5451059e-07 2.9398848e-09]\n"
          ],
          "name": "stdout"
        },
        {
          "output_type": "display_data",
          "data": {
            "image/png": "[encoded data removed]",
            "text/plain": [
              "<Figure size 432x288 with 2 Axes>"
            ]
          },
          "metadata": {
            "tags": [],
            "needs_background": "light"
          }
        }
      ]
    },
    {
      "cell_type": "code",
      "metadata": {
        "id": "collaborative-consciousness"
      },
      "source": [
        "# ************************************************************************************************\n",
        "# **********    VISUALIZE THE PREDICTION RESULT 01    ********************************************\n",
        "# ************************************************************************************************"
      ],
      "id": "collaborative-consciousness",
      "execution_count": null,
      "outputs": []
    },
    {
      "cell_type": "code",
      "metadata": {
        "id": "sized-national",
        "colab": {
          "base_uri": "https://localhost:8080/",
          "height": 214
        },
        "outputId": "8e5b03c0-0c81-4120-ae08-589b9d737f4b"
      },
      "source": [
        "sample = 36\n",
        "plt.figure(figsize=(6,3))\n",
        "plt.subplot(1,2,1)\n",
        "plt_bar(predictions[sample], test_labels[sample])\n",
        "plt.subplot(1,2,2)\n",
        "plt_img(predictions[sample], test_labels[sample], test_images[sample])\n",
        "plt.show()"
      ],
      "id": "sized-national",
      "execution_count": null,
      "outputs": [
        {
          "output_type": "display_data",
          "data": {
            "image/png": "[encoded data removed]",
            "text/plain": [
              "<Figure size 432x216 with 2 Axes>"
            ]
          },
          "metadata": {
            "tags": [],
            "needs_background": "light"
          }
        }
      ]
    },
    {
      "cell_type": "code",
      "metadata": {
        "id": "japanese-inside"
      },
      "source": [
        "# ************************************************************************************************\n",
        "# **********    VISUALIZE THE PREDICTIONS RESULT 02    *******************************************\n",
        "# ************************************************************************************************"
      ],
      "id": "japanese-inside",
      "execution_count": null,
      "outputs": []
    },
    {
      "cell_type": "code",
      "metadata": {
        "id": "collect-defense",
        "colab": {
          "base_uri": "https://localhost:8080/",
          "height": 584
        },
        "outputId": "7b8bbdec-21c1-4b57-f4d2-c8582efe4b83"
      },
      "source": [
        "rows = 4\n",
        "cols = 2\n",
        "\n",
        "num_images = rows * cols\n",
        "plt.figure(figsize=(2*2*cols, 2*rows))\n",
        "\n",
        "for i in range(num_images):\n",
        "    plt.subplot(rows,2*cols, 2*i+1)\n",
        "    plt_img(predictions[i], test_labels[i], test_images[i])\n",
        "    plt.subplot(rows,2*cols, 2*i+2)\n",
        "    plt_bar(predictions[i], test_labels[i])\n",
        "    \n",
        "plt.tight_layout()\n",
        "plt.show()"
      ],
      "id": "collect-defense",
      "execution_count": null,
      "outputs": [
        {
          "output_type": "display_data",
          "data": {
            "image/png": "[encoded data removed]",
            "text/plain": [
              "<Figure size 576x576 with 16 Axes>"
            ]
          },
          "metadata": {
            "tags": [],
            "needs_background": "light"
          }
        }
      ]
    }
  ]
}