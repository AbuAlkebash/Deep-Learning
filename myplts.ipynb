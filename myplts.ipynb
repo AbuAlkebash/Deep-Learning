{
  "nbformat": 4,
  "nbformat_minor": 5,
  "metadata": {
    "kernelspec": {
      "display_name": "Python 3",
      "language": "python",
      "name": "python3"
    },
    "language_info": {
      "codemirror_mode": {
        "name": "ipython",
        "version": 3
      },
      "file_extension": ".py",
      "mimetype": "text/x-python",
      "name": "python",
      "nbconvert_exporter": "python",
      "pygments_lexer": "ipython3",
      "version": "3.8.5"
    },
    "colab": {
      "name": "myplts.ipynb",
      "provenance": [],
      "collapsed_sections": [],
      "include_colab_link": true
    }
  },
  "cells": [
    {
      "cell_type": "markdown",
      "metadata": {
        "id": "view-in-github",
        "colab_type": "text"
      },
      "source": [
        "<a href=\"https://colab.research.google.com/github/Humam-PS/Deep-Learning/blob/main/myplts.ipynb\" target=\"_parent\"><img src=\"https://colab.research.google.com/assets/colab-badge.svg\" alt=\"Open In Colab\"/></a>"
      ]
    },
    {
      "cell_type": "markdown",
      "metadata": {
        "id": "eJfeuDrssqYB"
      },
      "source": [
        "#  VISUALIZE THE PREDICTION RESULT"
      ],
      "id": "eJfeuDrssqYB"
    },
    {
      "cell_type": "markdown",
      "metadata": {
        "id": "Q5AVIsTvs6eQ"
      },
      "source": [
        "## Import lib"
      ],
      "id": "Q5AVIsTvs6eQ"
    },
    {
      "cell_type": "code",
      "metadata": {
        "id": "departmental-tucson"
      },
      "source": [
        "import matplotlib.pyplot as plt\n",
        "import numpy as np"
      ],
      "id": "departmental-tucson",
      "execution_count": null,
      "outputs": []
    },
    {
      "cell_type": "markdown",
      "metadata": {
        "id": "G3nt0pdVtEUg"
      },
      "source": [
        "## Plot image Function"
      ],
      "id": "G3nt0pdVtEUg"
    },
    {
      "cell_type": "code",
      "metadata": {
        "id": "existing-forwarding"
      },
      "source": [
        "def plt_img(predictions_array, true_label, img, class_names=range(10)):\n",
        "    \n",
        "    # initialize the plot settings\n",
        "    plt.grid(False)\n",
        "    plt.xticks([])\n",
        "    plt.yticks([])\n",
        "    \n",
        "    # show the selected image\n",
        "    plt.imshow(img, cmap=plt.cm.binary)\n",
        "    \n",
        "    # pick the index of the max.element from array (element with high confidence)\n",
        "    predicted_label = np.argmax(predictions_array)\n",
        "    \n",
        "    # Assign the color based on the prediction result\n",
        "    color = 'green' if predicted_label == true_label else 'red'\n",
        "    \n",
        "    # Assign the x-label of the plot\n",
        "    plt.xlabel(f\"{class_names[true_label]}\"\n",
        "                \" is predicted as \"\n",
        "               f\"{100*np.max(predictions_array):2.0f}%\"\n",
        "               f\"({class_names[predicted_label]})\", color=color)\n",
        "    "
      ],
      "id": "existing-forwarding",
      "execution_count": null,
      "outputs": []
    },
    {
      "cell_type": "code",
      "metadata": {
        "id": "italian-flashing"
      },
      "source": [
        "# Function to create bar plot of the predictions."
      ],
      "id": "italian-flashing",
      "execution_count": null,
      "outputs": []
    },
    {
      "cell_type": "markdown",
      "metadata": {
        "id": "bjc08Mb3tSZ6"
      },
      "source": [
        "## Bar Plot Function - classes vs predictions"
      ],
      "id": "bjc08Mb3tSZ6"
    },
    {
      "cell_type": "code",
      "metadata": {
        "id": "tight-irrigation"
      },
      "source": [
        "def plt_bar(predictions_array, true_label):\n",
        "    \n",
        "    # initialize the plot settings\n",
        "    plt.grid(False)\n",
        "    plt.xticks(range(10))\n",
        "    plt.ylim([0, 1])\n",
        "    \n",
        "    # show the selected image\n",
        "    barPlot = plt.bar(range(10), predictions_array, color='blue')\n",
        "    \n",
        "    # pick the index of the max.element from array (element with high confidence)\n",
        "    predicted_label = np.argmax(predictions_array)\n",
        "    \n",
        "    # Assign the colors of predicted & true bars on barPlot\n",
        "    barPlot[predicted_label].set_color('red')\n",
        "    barPlot[true_label].set_color('green')"
      ],
      "id": "tight-irrigation",
      "execution_count": null,
      "outputs": []
    }
  ]
}