{
  "nbformat": 4,
  "nbformat_minor": 5,
  "metadata": {
    "kernelspec": {
      "display_name": "Python 3",
      "language": "python",
      "name": "python3"
    },
    "language_info": {
      "codemirror_mode": {
        "name": "ipython",
        "version": 3
      },
      "file_extension": ".py",
      "mimetype": "text/x-python",
      "name": "python",
      "nbconvert_exporter": "python",
      "pygments_lexer": "ipython3",
      "version": "3.8.5"
    },
    "colab": {
      "name": "tensorflow_fashion_mnist_dataset.ipynb",
      "provenance": [],
      "collapsed_sections": [
        "QeHaV_8ZzfUt",
        "TUerBnfizmJu",
        "4rUQq3yGzxKe",
        "YovimsPSz-hm",
        "P-O4MfQNzY4J"
      ],
      "include_colab_link": true
    }
  },
  "cells": [
    {
      "cell_type": "markdown",
      "metadata": {
        "id": "view-in-github",
        "colab_type": "text"
      },
      "source": [
        "<a href=\"https://colab.research.google.com/github/Humam-PS/Deep-Learning/blob/main/tensorflow_fashion_mnist_dataset.ipynb\" target=\"_parent\"><img src=\"https://colab.research.google.com/assets/colab-badge.svg\" alt=\"Open In Colab\"/></a>"
      ]
    },
    {
      "cell_type": "markdown",
      "metadata": {
        "id": "QeHaV_8ZzfUt"
      },
      "source": [
        "# Importing Python Modules or Files from Drive into Colab"
      ],
      "id": "QeHaV_8ZzfUt"
    },
    {
      "cell_type": "markdown",
      "metadata": {
        "id": "TUerBnfizmJu"
      },
      "source": [
        "## 1) Mount your google drive in google colab"
      ],
      "id": "TUerBnfizmJu"
    },
    {
      "cell_type": "code",
      "metadata": {
        "colab": {
          "base_uri": "https://localhost:8080/"
        },
        "id": "PC_Q9W3AzrUs",
        "outputId": "4d9825ed-c161-4ea4-e77c-66350e2b64c7"
      },
      "source": [
        "from google.colab import drive\r\n",
        "drive.mount('/content/drive')"
      ],
      "id": "PC_Q9W3AzrUs",
      "execution_count": null,
      "outputs": [
        {
          "output_type": "stream",
          "text": [
            "Mounted at /content/drive\n"
          ],
          "name": "stdout"
        }
      ]
    },
    {
      "cell_type": "markdown",
      "metadata": {
        "id": "4rUQq3yGzxKe"
      },
      "source": [
        "## 2) We'll need to update our path to import from Drive."
      ],
      "id": "4rUQq3yGzxKe"
    },
    {
      "cell_type": "code",
      "metadata": {
        "id": "SBMCARIcz5mn"
      },
      "source": [
        "import sys\r\n",
        "sys.path.append('/content/drive/MyDrive/Colab Notebooks/')"
      ],
      "id": "SBMCARIcz5mn",
      "execution_count": null,
      "outputs": []
    },
    {
      "cell_type": "markdown",
      "metadata": {
        "id": "YovimsPSz-hm"
      },
      "source": [
        "## 3) Now, we can be able to import our modules or files stuff from drive"
      ],
      "id": "YovimsPSz-hm"
    },
    {
      "cell_type": "code",
      "metadata": {
        "id": "bWvp2Hmx0JNT"
      },
      "source": [
        "### To import using the following code lines, *.py files should be in drive ###\r\n",
        "# from myplts import plt_bar, plt_img"
      ],
      "id": "bWvp2Hmx0JNT",
      "execution_count": null,
      "outputs": []
    },
    {
      "cell_type": "code",
      "metadata": {
        "colab": {
          "base_uri": "https://localhost:8080/"
        },
        "id": "O86yv1om0NGu",
        "outputId": "a844ad1b-f19a-4cdb-ac61-06820a4358d9"
      },
      "source": [
        "### You can import *.ipynb files directly ### - Here, install library\r\n",
        "\r\n",
        "# Method_01\r\n",
        "!pip install kora -q\r\n",
        "from kora import drive\r\n",
        "drive.link_nbs()\r\n",
        "\r\n",
        "from myplts import plt_bar, plt_img\r\n",
        "\r\n",
        "# Method_02\r\n",
        "#!cp -r \"/content/drive/MyDrive/Colab Notebooks/myplts.ipynb\" '/content/'"
      ],
      "id": "O86yv1om0NGu",
      "execution_count": null,
      "outputs": [
        {
          "output_type": "stream",
          "text": [
            "\u001b[K     |████████████████████████████████| 61kB 3.6MB/s \n",
            "\u001b[K     |████████████████████████████████| 61kB 6.6MB/s \n",
            "\u001b[?25himporting Jupyter notebook from /nbs/myplts.ipynb\n"
          ],
          "name": "stdout"
        }
      ]
    },
    {
      "cell_type": "markdown",
      "metadata": {
        "id": "P-O4MfQNzY4J"
      },
      "source": [
        "# Main Code"
      ],
      "id": "P-O4MfQNzY4J"
    },
    {
      "cell_type": "code",
      "metadata": {
        "id": "southwest-highway"
      },
      "source": [
        "# import tensorflow and Keras\n",
        "import tensorflow as tf\n",
        "from tensorflow import keras"
      ],
      "id": "southwest-highway",
      "execution_count": null,
      "outputs": []
    },
    {
      "cell_type": "code",
      "metadata": {
        "id": "critical-drain"
      },
      "source": [
        "# import matplotlib and numpy\n",
        "import matplotlib.pyplot as plt\n",
        "import numpy as np"
      ],
      "id": "critical-drain",
      "execution_count": null,
      "outputs": []
    },
    {
      "cell_type": "code",
      "metadata": {
        "colab": {
          "base_uri": "https://localhost:8080/"
        },
        "id": "municipal-sound",
        "outputId": "8b0ed2c3-392d-43bd-94c6-9b351a2a0ed2"
      },
      "source": [
        "# print version of tensorflow framework\n",
        "print(tf.__version__)"
      ],
      "id": "municipal-sound",
      "execution_count": null,
      "outputs": [
        {
          "output_type": "stream",
          "text": [
            "2.4.1\n"
          ],
          "name": "stdout"
        }
      ]
    },
    {
      "cell_type": "code",
      "metadata": {
        "id": "disciplinary-pricing"
      },
      "source": [
        "# import the fashion mnist dataset\n",
        "fashion_mnist = keras.datasets.fashion_mnist\n",
        "#digit_mnist = keras.datasets.mnist\n",
        "(train_images, train_labels), (test_images, test_labels) = fashion_mnist.load_data()"
      ],
      "id": "disciplinary-pricing",
      "execution_count": null,
      "outputs": []
    },
    {
      "cell_type": "code",
      "metadata": {
        "colab": {
          "base_uri": "https://localhost:8080/"
        },
        "id": "pacific-abortion",
        "outputId": "21e900f5-fdab-4df0-84f1-1b8784dce4b4"
      },
      "source": [
        "train_images.shape"
      ],
      "id": "pacific-abortion",
      "execution_count": null,
      "outputs": [
        {
          "output_type": "execute_result",
          "data": {
            "text/plain": [
              "(60000, 28, 28)"
            ]
          },
          "metadata": {
            "tags": []
          },
          "execution_count": 14
        }
      ]
    },
    {
      "cell_type": "code",
      "metadata": {
        "colab": {
          "base_uri": "https://localhost:8080/"
        },
        "id": "ongoing-filename",
        "outputId": "6e6387ec-40dc-42e9-bfab-923007a00523"
      },
      "source": [
        "print(len(train_labels))\n",
        "train_labels"
      ],
      "id": "ongoing-filename",
      "execution_count": null,
      "outputs": [
        {
          "output_type": "stream",
          "text": [
            "60000\n"
          ],
          "name": "stdout"
        },
        {
          "output_type": "execute_result",
          "data": {
            "text/plain": [
              "array([9, 0, 0, ..., 3, 0, 5], dtype=uint8)"
            ]
          },
          "metadata": {
            "tags": []
          },
          "execution_count": 15
        }
      ]
    },
    {
      "cell_type": "code",
      "metadata": {
        "colab": {
          "base_uri": "https://localhost:8080/",
          "height": 1000
        },
        "id": "imported-break",
        "outputId": "e21ea9b6-6bbd-40cd-a7d5-9199d4bdb19f"
      },
      "source": [
        "i = 6\n",
        "# Visualize one sample:\n",
        "plt.figure()\n",
        "plt.imshow(train_images[i])\n",
        "plt.colorbar()                # [0-255]\n",
        "plt.show()\n",
        "\n",
        "# Also you can see its matrix value\n",
        "train_images[i]"
      ],
      "id": "imported-break",
      "execution_count": null,
      "outputs": [
        {
          "output_type": "display_data",
          "data": {
            "image/png": "[encoded data removed]",
            "text/plain": [
              "<Figure size 432x288 with 2 Axes>"
            ]
          },
          "metadata": {
            "tags": [],
            "needs_background": "light"
          }
        },
        {
          "output_type": "execute_result",
          "data": {
            "text/plain": [
              "array([[  0,   0,   0,   0,   0,   0,   0,   0,   0,   0,   0,   0,   0,\n",
              "          0,   0,   0,   0,   0,   0,   0,   0,   0,   0,   0,   0,   0,\n",
              "          0,   0],\n",
              "       [  0,   0,   0,   0,   0,   0,   0,   0,   0,   0,   0,   0,   0,\n",
              "          0,   0,   0,   0,   0,   0,   0,   0,   0,   0,   0,   0,   0,\n",
              "          0,   0],\n",
              "       [  0,   0,   0,   0,   0,   0,   0,   0,   0,   0,   0,   0,   0,\n",
              "          0,   0,   0,   0,   0,   0,   0,   0,   0,   0,   0,   0,   0,\n",
              "          0,   0],\n",
              "       [  0,   0,   0,   0,   0,   0,   0,   0,   0,   0,   0,   0,   0,\n",
              "          0,   0,   0,   0,   0,   0,   0,   0,   0,   0,   0,   0,   0,\n",
              "          0,   0],\n",
              "       [  0,   0,   0,   0,   0,   0,   0,   0,   0,   0,   0,   0,   0,\n",
              "          0,   0,   0,   0,   0,   0,   0,   0,   0,   0,   0,   0,   0,\n",
              "          0,   0],\n",
              "       [  0,   0,   0,   0,   0,   0,   0,   0,   0,   0,   0,   0,   0,\n",
              "          0,   0,   0,   0,   0,   0,   0,   0,   0,   0,   0,   0,   0,\n",
              "          0,   0],\n",
              "       [  0,   0,   0,   0,   0,   0,   0,   0,   0,   0,   0,   0,   0,\n",
              "          0,   0,   0,   0,   0,   0,   0,   0,   0,   0,   0,   0,   0,\n",
              "          0,   0],\n",
              "       [  0,   0,   0,   0,   0,   0,   0,   0,   0,   0,   0,   0,   0,\n",
              "          0,   0,   0,   0,   0,   0,   0,   0,   0,   0,   0,   0,   0,\n",
              "          0,   0],\n",
              "       [  0,   0,   0,   0,   0,   0,   0,   0,   0,   1,   1,   0,   3,\n",
              "          1,   0,   4,   0,   0,   0,   2,   0,   0,   0,   0,   5,   1,\n",
              "          0,   0],\n",
              "       [  0,   0,   0,   0,   0,   0,   0,   0,   0,   0,   0,   0,   4,\n",
              "          0,   0,   0,   0,   0, 106, 229,   0,   0,   0,   0,   0,   0,\n",
              "          0,   0],\n",
              "       [  0,   0,   0,   0,   0,   0,   0,   0,   0,   0,   1,   0,   0,\n",
              "          0,   0,  90, 138, 223, 214, 209, 167,   0,   0,   0,   6, 124,\n",
              "          0,   0],\n",
              "       [  0,   0,   0,   0,   0,   0,   0,   0,   1,   0,   0,   0,  37,\n",
              "        122, 179, 249, 214, 195, 181, 213, 241,   0,   0,   0,  94, 179,\n",
              "          0,   0],\n",
              "       [  0,   0,   0,   2,   0,   6,   0,   0,   0,   0,  16, 149, 236,\n",
              "        226, 201, 195, 200, 204, 155, 209, 116,   0,  22, 109, 251,  35,\n",
              "         51,   0],\n",
              "       [  0,   0,   1,   3,   0,   0,   0,   0,  67, 150, 240, 221, 194,\n",
              "        190, 204, 214, 205, 195, 207, 185, 206, 233, 224, 179,   2,  10,\n",
              "         22,   0],\n",
              "       [  0,   0,   0,   0,   0,   0, 110, 214, 237, 209, 196, 192, 215,\n",
              "        215, 213, 213, 207, 193, 186, 199, 206, 175,   0,   0, 124, 230,\n",
              "        200,  36],\n",
              "       [  0,  50, 119, 158, 166, 192, 204, 198, 187, 202, 203, 211, 214,\n",
              "        204, 209, 210, 204, 197, 191, 190, 191, 229, 230, 242, 214, 193,\n",
              "        203, 137],\n",
              "       [108, 190, 199, 200, 194, 199, 194, 195, 199, 200, 189, 187, 191,\n",
              "        189, 197, 198, 205, 200, 200, 208, 213, 215, 212, 213, 209, 202,\n",
              "        216, 137],\n",
              "       [ 15,  55, 114, 157, 188, 207, 216, 220, 217, 219, 221, 242, 240,\n",
              "        243, 249, 253, 255, 255, 243, 232, 226, 222, 221, 213, 215, 198,\n",
              "        209,  62],\n",
              "       [ 16,  11,   0,   0,   7,  40,  76, 108, 134, 142, 143, 145, 143,\n",
              "        123, 111,  92,  76,  61,  45,  35,  25,  25,  31,  32,  32,  12,\n",
              "          1,   0],\n",
              "       [  0,  11,  25,  26,  26,  22,  12,  20,  15,  15,  18,  17,  19,\n",
              "         27,  30,  36,  41,  49,  57,  66,  79,  84,  79,  83,  93,  80,\n",
              "         75,  45],\n",
              "       [  0,   0,   0,   0,   0,   9,  14,  17,  27,  34,  39,  39,  42,\n",
              "         44,  41,  41,  43,  48,  43,  30,  31,  35,  40,  37,  40,  37,\n",
              "         26,   0],\n",
              "       [  0,   0,   0,   0,   0,   0,   0,   0,   0,   0,   0,   0,   0,\n",
              "          0,   0,   0,   0,   0,   0,   0,   0,   0,   0,   0,   0,   0,\n",
              "          0,   0],\n",
              "       [  0,   0,   0,   0,   0,   0,   0,   0,   0,   0,   0,   0,   0,\n",
              "          0,   0,   0,   0,   0,   0,   0,   0,   0,   0,   0,   0,   0,\n",
              "          0,   0],\n",
              "       [  0,   0,   0,   0,   0,   0,   0,   0,   0,   0,   0,   0,   0,\n",
              "          0,   0,   0,   0,   0,   0,   0,   0,   0,   0,   0,   0,   0,\n",
              "          0,   0],\n",
              "       [  0,   0,   0,   0,   0,   0,   0,   0,   0,   0,   0,   0,   0,\n",
              "          0,   0,   0,   0,   0,   0,   0,   0,   0,   0,   0,   0,   0,\n",
              "          0,   0],\n",
              "       [  0,   0,   0,   0,   0,   0,   0,   0,   0,   0,   0,   0,   0,\n",
              "          0,   0,   0,   0,   0,   0,   0,   0,   0,   0,   0,   0,   0,\n",
              "          0,   0],\n",
              "       [  0,   0,   0,   0,   0,   0,   0,   0,   0,   0,   0,   0,   0,\n",
              "          0,   0,   0,   0,   0,   0,   0,   0,   0,   0,   0,   0,   0,\n",
              "          0,   0],\n",
              "       [  0,   0,   0,   0,   0,   0,   0,   0,   0,   0,   0,   0,   0,\n",
              "          0,   0,   0,   0,   0,   0,   0,   0,   0,   0,   0,   0,   0,\n",
              "          0,   0]], dtype=uint8)"
            ]
          },
          "metadata": {
            "tags": []
          },
          "execution_count": 16
        }
      ]
    },
    {
      "cell_type": "code",
      "metadata": {
        "id": "patient-surname"
      },
      "source": [
        "# ****************** PREPROCESS THE DATASET **********************************"
      ],
      "id": "patient-surname",
      "execution_count": null,
      "outputs": []
    },
    {
      "cell_type": "code",
      "metadata": {
        "id": "bigger-direction"
      },
      "source": [
        "train_images = train_images / 255\n",
        "test_images = test_images / 255"
      ],
      "id": "bigger-direction",
      "execution_count": null,
      "outputs": []
    },
    {
      "cell_type": "code",
      "metadata": {
        "id": "sought-harvey"
      },
      "source": [
        "# Creat class_names list correspond to [0-9] values\n",
        "class_names = ['T-shirt/top', 'Trouser', 'Pullover', 'Dress', 'Coat',\n",
        "               'Sandal', 'Shirt', 'Sneaker', 'Bag', 'Ankle boot']"
      ],
      "id": "sought-harvey",
      "execution_count": null,
      "outputs": []
    },
    {
      "cell_type": "code",
      "metadata": {
        "colab": {
          "base_uri": "https://localhost:8080/",
          "height": 588
        },
        "id": "challenging-albany",
        "outputId": "c0af7cc6-4367-472d-e898-cccf00705eb3"
      },
      "source": [
        "plt.figure(figsize=(10,10))\n",
        "for i in range(25):\n",
        "    plt.subplot(5,5,i+1)\n",
        "    plt.xticks([])\n",
        "    plt.yticks([])\n",
        "    plt.grid(False)\n",
        "    plt.imshow(train_images[i], cmap = plt.cm.binary)\n",
        "    plt.xlabel(class_names[train_labels[i]])\n",
        "plt.show()"
      ],
      "id": "challenging-albany",
      "execution_count": null,
      "outputs": [
        {
          "output_type": "display_data",
          "data": {
            "image/png": "[encoded data removed]",
            "text/plain": [
              "<Figure size 720x720 with 25 Axes>"
            ]
          },
          "metadata": {
            "tags": []
          }
        }
      ]
    },
    {
      "cell_type": "code",
      "metadata": {
        "id": "musical-gender"
      },
      "source": [
        "# ****************** SET UP THE LAYERS **********************************"
      ],
      "id": "musical-gender",
      "execution_count": null,
      "outputs": []
    },
    {
      "cell_type": "code",
      "metadata": {
        "id": "religious-deposit"
      },
      "source": [
        "# Input Layer - Flatten the two dimensional array (28X28) into 1D array\n",
        "# Hidden Layer - Dense fully connected layer of 128 nodes (relu)\n",
        "# output Layer - Dense fully connected layer of 10 nodes (softmax)"
      ],
      "id": "religious-deposit",
      "execution_count": null,
      "outputs": []
    },
    {
      "cell_type": "code",
      "metadata": {
        "id": "orange-violence"
      },
      "source": [
        "# define neural_network (define the keras model), it's not optimal, It has to be optimized\n",
        "model = keras.Sequential([\n",
        "    keras.layers.Flatten(input_shape=(28,28)),    # Input layer,  type 'Flatten' and number '28*28=784' \n",
        "    keras.layers.Dense(128, activation='relu'),   # Hidden layer, type 'Dense' and number '128'\n",
        "    keras.layers.Dense(10, activation='softmax')  # Output layer, type 'Dense' and number '10'\n",
        "])"
      ],
      "id": "orange-violence",
      "execution_count": null,
      "outputs": []
    },
    {
      "cell_type": "code",
      "metadata": {
        "id": "sought-senate"
      },
      "source": [
        "# ****************** COMPILE AND OPTIMIZE THE MODEL **********************************"
      ],
      "id": "sought-senate",
      "execution_count": null,
      "outputs": []
    },
    {
      "cell_type": "code",
      "metadata": {
        "id": "identical-snapshot"
      },
      "source": [
        "# To do this we need to understand 3 things:\n",
        "    # 1- loss function - measures how accurate the ouput is\n",
        "    # 2- Optimizer     - measures how the model is updated\n",
        "    # 3- Metrics       - monitors the training to determine when stop"
      ],
      "id": "identical-snapshot",
      "execution_count": null,
      "outputs": []
    },
    {
      "cell_type": "code",
      "metadata": {
        "id": "marine-agreement"
      },
      "source": [
        "# Compile the model\n",
        "model.compile(\n",
        "    optimizer = 'adam',\n",
        "    loss      = 'sparse_categorical_crossentropy',\n",
        "    metrics   = ['accuracy']\n",
        ")"
      ],
      "id": "marine-agreement",
      "execution_count": null,
      "outputs": []
    },
    {
      "cell_type": "code",
      "metadata": {
        "id": "promotional-template"
      },
      "source": [
        "# ****************** TRAINING THE NEURON MODEL **********************************\n",
        "\n",
        "# Train the neural network: fit the neuron model to the training data\n",
        "\n",
        "# We are going to train the models in 10 epochs (that is a complete presentation of the trainging dataset)\n",
        "# This means that we would feed the 60,000 images and labels into the network 10 different times\n",
        "# No. of epochs = No. of training loops.\n",
        "# Each epoch accuracy is increased\n",
        "# For each epoch we would see both the loss and the accuracy of the model."
      ],
      "id": "promotional-template",
      "execution_count": null,
      "outputs": []
    },
    {
      "cell_type": "code",
      "metadata": {
        "colab": {
          "base_uri": "https://localhost:8080/"
        },
        "id": "becoming-analysis",
        "outputId": "a7b3117a-8012-4116-ff65-6c660e38ceb1"
      },
      "source": [
        "# Model is being trained on 1875 batches of 32 images each. (1875 batches * 32 images = 60,000 images)\n",
        "model.fit(train_images, train_labels, epochs=5)"
      ],
      "id": "becoming-analysis",
      "execution_count": null,
      "outputs": [
        {
          "output_type": "stream",
          "text": [
            "Epoch 1/5\n",
            "1875/1875 [==============================] - 4s 2ms/step - loss: 0.6366 - accuracy: 0.7798\n",
            "Epoch 2/5\n",
            "1875/1875 [==============================] - 4s 2ms/step - loss: 0.3880 - accuracy: 0.8589\n",
            "Epoch 3/5\n",
            "1875/1875 [==============================] - 3s 2ms/step - loss: 0.3447 - accuracy: 0.8750\n",
            "Epoch 4/5\n",
            "1875/1875 [==============================] - 3s 2ms/step - loss: 0.3111 - accuracy: 0.8862\n",
            "Epoch 5/5\n",
            "1875/1875 [==============================] - 4s 2ms/step - loss: 0.2963 - accuracy: 0.8917\n"
          ],
          "name": "stdout"
        },
        {
          "output_type": "execute_result",
          "data": {
            "text/plain": [
              "<tensorflow.python.keras.callbacks.History at 0x7f66425a6150>"
            ]
          },
          "metadata": {
            "tags": []
          },
          "execution_count": 28
        }
      ]
    },
    {
      "cell_type": "code",
      "metadata": {
        "colab": {
          "base_uri": "https://localhost:8080/"
        },
        "id": "incorporated-haven",
        "outputId": "8fb1bca5-5fd0-4fce-b4a7-9f60b25c34e7"
      },
      "source": [
        "# ****************** TEST THE MODEL **********************************\n",
        "test_loss, test_acc, = model.evaluate(test_images, test_labels)"
      ],
      "id": "incorporated-haven",
      "execution_count": null,
      "outputs": [
        {
          "output_type": "stream",
          "text": [
            "313/313 [==============================] - 1s 1ms/step - loss: 0.3700 - accuracy: 0.8623\n"
          ],
          "name": "stdout"
        }
      ]
    },
    {
      "cell_type": "code",
      "metadata": {
        "id": "functional-relaxation"
      },
      "source": [
        "# ****************** MAKE PREDICTION **********************************\n",
        "\n",
        "# Predict the class of each image, since we have an optimized model now."
      ],
      "id": "functional-relaxation",
      "execution_count": null,
      "outputs": []
    },
    {
      "cell_type": "code",
      "metadata": {
        "colab": {
          "base_uri": "https://localhost:8080/"
        },
        "id": "prescription-fossil",
        "outputId": "364503ba-87ae-4fa4-818b-94b4417e22fa"
      },
      "source": [
        "predictions = model.predict(test_images)\n",
        "predictions.shape"
      ],
      "id": "prescription-fossil",
      "execution_count": null,
      "outputs": [
        {
          "output_type": "execute_result",
          "data": {
            "text/plain": [
              "(10000, 10)"
            ]
          },
          "metadata": {
            "tags": []
          },
          "execution_count": 31
        }
      ]
    },
    {
      "cell_type": "code",
      "metadata": {
        "colab": {
          "base_uri": "https://localhost:8080/"
        },
        "id": "colonial-sunset",
        "outputId": "b389d7a6-9ae1-4d20-dddf-786d49c0df9b"
      },
      "source": [
        "# Each prediction is an array of 10 numbers (# of classes). Each number represents the confidence that the\n",
        "# image corresponds to the each of the 10 different classes.\n",
        "sample = 25\n",
        "print(predictions[sample])\n",
        "\n",
        "# [depends on the trained model]: we see that test_images[25] has high likelihood at class [6] = 43.82%:"
      ],
      "id": "colonial-sunset",
      "execution_count": null,
      "outputs": [
        {
          "output_type": "stream",
          "text": [
            "[1.1638184e-03 3.0450194e-05 8.6809421e-01 1.8431648e-04 5.5713750e-02\n",
            " 1.7185445e-06 7.4720420e-02 3.1858829e-07 9.0470639e-05 4.4341078e-07]\n"
          ],
          "name": "stdout"
        }
      ]
    },
    {
      "cell_type": "code",
      "metadata": {
        "colab": {
          "base_uri": "https://localhost:8080/",
          "height": 268
        },
        "id": "digital-buffer",
        "outputId": "2c43f4a6-84d0-4803-f9f1-3a87a8de6d38"
      },
      "source": [
        "# Check the model's prediction for the specified sample (manually by our eyes).\n",
        "plt.figure()\n",
        "plt.imshow(test_images[sample])\n",
        "plt.colorbar()\n",
        "plt.show()"
      ],
      "id": "digital-buffer",
      "execution_count": null,
      "outputs": [
        {
          "output_type": "display_data",
          "data": {
            "image/png": "[encoded data removed]",
            "text/plain": [
              "<Figure size 432x288 with 2 Axes>"
            ]
          },
          "metadata": {
            "tags": [],
            "needs_background": "light"
          }
        }
      ]
    },
    {
      "cell_type": "code",
      "metadata": {
        "id": "collaborative-consciousness"
      },
      "source": [
        "# ****************** VISUALIZE THE PREDICTION RESULT 01 **********************************"
      ],
      "id": "collaborative-consciousness",
      "execution_count": null,
      "outputs": []
    },
    {
      "cell_type": "code",
      "metadata": {
        "colab": {
          "base_uri": "https://localhost:8080/",
          "height": 214
        },
        "id": "sized-national",
        "outputId": "31fbf871-691b-489f-e7f5-b68b1361f08f"
      },
      "source": [
        "i = 12\n",
        "plt.figure(figsize=(6,3))\n",
        "plt.subplot(1,2,1)\n",
        "plt_bar(predictions[i], test_labels[i])\n",
        "plt.subplot(1,2,2)\n",
        "plt_img(predictions[i], test_labels[i], test_images[i], class_names)\n",
        "plt.show()"
      ],
      "id": "sized-national",
      "execution_count": null,
      "outputs": [
        {
          "output_type": "display_data",
          "data": {
            "image/png": "[encoded data removed]",
            "text/plain": [
              "<Figure size 432x216 with 2 Axes>"
            ]
          },
          "metadata": {
            "tags": [],
            "needs_background": "light"
          }
        }
      ]
    },
    {
      "cell_type": "code",
      "metadata": {
        "id": "japanese-inside"
      },
      "source": [
        "# ****************** VISUALIZE THE PREDICTION RESULT 02 **********************************"
      ],
      "id": "japanese-inside",
      "execution_count": null,
      "outputs": []
    },
    {
      "cell_type": "code",
      "metadata": {
        "colab": {
          "base_uri": "https://localhost:8080/",
          "height": 584
        },
        "id": "collect-defense",
        "outputId": "b670a207-1d6f-4abf-f1e2-4a6930fb8a99"
      },
      "source": [
        "rows = 4\n",
        "cols = 2\n",
        "\n",
        "num_images = rows * cols\n",
        "plt.figure(figsize=(2*2*cols, 2*rows))\n",
        "\n",
        "for i in range(num_images):\n",
        "    plt.subplot(rows,2*cols, 2*i+1)\n",
        "    plt_img(predictions[i], test_labels[i], test_images[i], class_names)\n",
        "    plt.subplot(rows,2*cols, 2*i+2)\n",
        "    plt_bar(predictions[i], test_labels[i])\n",
        "    \n",
        "plt.tight_layout()\n",
        "plt.show()"
      ],
      "id": "collect-defense",
      "execution_count": null,
      "outputs": [
        {
          "output_type": "display_data",
          "data": {
            "image/png": "[encoded data removed]",
            "text/plain": [
              "<Figure size 576x576 with 16 Axes>"
            ]
          },
          "metadata": {
            "tags": [],
            "needs_background": "light"
          }
        }
      ]
    },
    {
      "cell_type": "code",
      "metadata": {
        "id": "level-association"
      },
      "source": [
        ""
      ],
      "id": "level-association",
      "execution_count": null,
      "outputs": []
    },
    {
      "cell_type": "code",
      "metadata": {
        "id": "developmental-producer"
      },
      "source": [
        ""
      ],
      "id": "developmental-producer",
      "execution_count": null,
      "outputs": []
    },
    {
      "cell_type": "code",
      "metadata": {
        "id": "magnetic-wrong"
      },
      "source": [
        ""
      ],
      "id": "magnetic-wrong",
      "execution_count": null,
      "outputs": []
    }
  ]
}