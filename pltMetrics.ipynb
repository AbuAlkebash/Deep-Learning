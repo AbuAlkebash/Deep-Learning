{
  "nbformat": 4,
  "nbformat_minor": 0,
  "metadata": {
    "colab": {
      "name": "pltMetrics.ipynb",
      "provenance": [],
      "collapsed_sections": [],
      "authorship_tag": "ABX9TyNu2vGEbaVTomyCRyh0l0by",
      "include_colab_link": true
    },
    "kernelspec": {
      "name": "python3",
      "display_name": "Python 3"
    }
  },
  "cells": [
    {
      "cell_type": "markdown",
      "metadata": {
        "id": "view-in-github",
        "colab_type": "text"
      },
      "source": [
        "<a href=\"https://colab.research.google.com/github/Humam-PS/Deep-Learning/blob/main/pltMetrics.ipynb\" target=\"_parent\"><img src=\"https://colab.research.google.com/assets/colab-badge.svg\" alt=\"Open In Colab\"/></a>"
      ]
    },
    {
      "cell_type": "markdown",
      "metadata": {
        "id": "Rmw4G91_9XG1"
      },
      "source": [
        "# PLOTTING THE METRIC"
      ]
    },
    {
      "cell_type": "markdown",
      "metadata": {
        "id": "yi0k3lD_9pqC"
      },
      "source": [
        "## Import libs"
      ]
    },
    {
      "cell_type": "code",
      "metadata": {
        "id": "rgl3a3CA9x3Y"
      },
      "source": [
        "import matplotlib.pyplot as plt"
      ],
      "execution_count": 1,
      "outputs": []
    },
    {
      "cell_type": "markdown",
      "metadata": {
        "id": "bng3EeLd96cL"
      },
      "source": [
        "## MODEL ACCURACY"
      ]
    },
    {
      "cell_type": "code",
      "metadata": {
        "id": "dtbKT1qp8zG5"
      },
      "source": [
        "def pltacc(history, accuracy, val_accuracy):\r\n",
        "  fig = plt.figure()\r\n",
        "  #plt.subplot(2,1,1)\r\n",
        "  plt.plot(history.history['accuracy'])\r\n",
        "  plt.plot(history.history['val_accuracy'])\r\n",
        "  plt.title('model accuracy')\r\n",
        "  plt.ylabel('accuracy')\r\n",
        "  plt.xlabel('epoch')\r\n",
        "  plt.legend(['Training', 'Validation'], loc='lower right')"
      ],
      "execution_count": 2,
      "outputs": []
    },
    {
      "cell_type": "markdown",
      "metadata": {
        "id": "CUjs0PZQ9_kA"
      },
      "source": [
        "## MODEL LOSS"
      ]
    },
    {
      "cell_type": "code",
      "metadata": {
        "id": "IWaH4LBk-ExR"
      },
      "source": [
        "def pltloss(history, loss, val_loss):\r\n",
        "  fig = plt.figure()\r\n",
        "  #plt.subplot(2,1,2)\r\n",
        "  plt.plot(history.history['loss'])\r\n",
        "  plt.plot(history.history['val_loss'])\r\n",
        "  plt.title('model loss')\r\n",
        "  plt.ylabel('loss')\r\n",
        "  plt.xlabel('epoch')\r\n",
        "  plt.legend(['Training', 'Validation'], loc='upper right')\r\n",
        "\r\n",
        "  #plt.tight_layout()\r\n",
        "  #plt.show()"
      ],
      "execution_count": 3,
      "outputs": []
    }
  ]
}