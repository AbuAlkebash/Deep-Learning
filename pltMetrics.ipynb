{
  "nbformat": 4,
  "nbformat_minor": 0,
  "metadata": {
    "colab": {
      "name": "pltMetrics.ipynb",
      "provenance": [],
      "collapsed_sections": [],
      "toc_visible": true,
      "authorship_tag": "ABX9TyP97KkSWcr5hdFs9H76JFiL",
      "include_colab_link": true
    },
    "kernelspec": {
      "name": "python3",
      "display_name": "Python 3"
    }
  },
  "cells": [
    {
      "cell_type": "markdown",
      "metadata": {
        "id": "view-in-github",
        "colab_type": "text"
      },
      "source": [
        "<a href=\"https://colab.research.google.com/github/Humam-PS/Deep-Learning/blob/main/pltMetrics.ipynb\" target=\"_parent\"><img src=\"https://colab.research.google.com/assets/colab-badge.svg\" alt=\"Open In Colab\"/></a>"
      ]
    },
    {
      "cell_type": "markdown",
      "metadata": {
        "id": "Rmw4G91_9XG1"
      },
      "source": [
        "# PLOTTING THE METRIC"
      ]
    },
    {
      "cell_type": "markdown",
      "metadata": {
        "id": "yi0k3lD_9pqC"
      },
      "source": [
        "## Import libs"
      ]
    },
    {
      "cell_type": "code",
      "metadata": {
        "id": "rgl3a3CA9x3Y"
      },
      "source": [
        "import matplotlib.pyplot as plt"
      ],
      "execution_count": null,
      "outputs": []
    },
    {
      "cell_type": "markdown",
      "metadata": {
        "id": "bng3EeLd96cL"
      },
      "source": [
        "## MODEL ACCURACY"
      ]
    },
    {
      "cell_type": "code",
      "metadata": {
        "id": "dtbKT1qp8zG5"
      },
      "source": [
        "def pltacc(history, accuracy, val_accuracy):\n",
        "  fig = plt.figure()\n",
        "  #plt.subplot(2,1,1)\n",
        "  plt.plot(history.history['accuracy'], label='Training')\n",
        "  plt.plot(history.history['val_accuracy'], label = 'Validation')\n",
        "  plt.title('model accuracy')\n",
        "  plt.ylabel('accuracy')\n",
        "  plt.xlabel('epoch')\n",
        "  plt.legend(loc='lower right')"
      ],
      "execution_count": null,
      "outputs": []
    },
    {
      "cell_type": "markdown",
      "metadata": {
        "id": "CUjs0PZQ9_kA"
      },
      "source": [
        "## MODEL LOSS"
      ]
    },
    {
      "cell_type": "code",
      "metadata": {
        "id": "IWaH4LBk-ExR"
      },
      "source": [
        "def pltloss(history, loss, val_loss):\n",
        "  fig = plt.figure()\n",
        "  #plt.subplot(2,1,2)\n",
        "  plt.plot(history.history['loss'], label='Training')\n",
        "  plt.plot(history.history['val_loss'], label = 'Validation')\n",
        "  plt.title('model loss')\n",
        "  plt.ylabel('loss')\n",
        "  plt.xlabel('epoch')\n",
        "  plt.legend(loc='upper right')\n",
        "\n",
        "  #plt.tight_layout()\n",
        "  #plt.show()"
      ],
      "execution_count": null,
      "outputs": []
    }
  ]
}