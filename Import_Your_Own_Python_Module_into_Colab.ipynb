{
  "nbformat": 4,
  "nbformat_minor": 0,
  "metadata": {
    "colab": {
      "name": "Import Your Own Python Module into Colab.ipynb",
      "provenance": [],
      "collapsed_sections": [
        "7T803N-T0H81",
        "66TFtzlu0n8O",
        "FtgV9xOq071e"
      ],
      "toc_visible": true,
      "authorship_tag": "ABX9TyP7Kc2vXcV9o0VltovDkv/m",
      "include_colab_link": true
    },
    "kernelspec": {
      "name": "python3",
      "display_name": "Python 3"
    }
  },
  "cells": [
    {
      "cell_type": "markdown",
      "metadata": {
        "id": "view-in-github",
        "colab_type": "text"
      },
      "source": [
        "<a href=\"https://colab.research.google.com/github/Humam-PS/Deep-Learning/blob/main/Import_Your_Own_Python_Module_into_Colab.ipynb\" target=\"_parent\"><img src=\"https://colab.research.google.com/assets/colab-badge.svg\" alt=\"Open In Colab\"/></a>"
      ]
    },
    {
      "cell_type": "markdown",
      "metadata": {
        "id": "vjzRKQQ8o7xX"
      },
      "source": [
        "# Importing Python Modules or Files from Drive into Colab"
      ]
    },
    {
      "cell_type": "markdown",
      "metadata": {
        "id": "7T803N-T0H81"
      },
      "source": [
        "## 1) Mount your google drive in google colab"
      ]
    },
    {
      "cell_type": "code",
      "metadata": {
        "colab": {
          "base_uri": "https://localhost:8080/"
        },
        "id": "CwPByMOooY_x",
        "outputId": "82019d3e-c37c-47bd-dd14-0a7f3d9eaeb1"
      },
      "source": [
        "from google.colab import drive\r\n",
        "drive.mount('/content/drive')"
      ],
      "execution_count": null,
      "outputs": [
        {
          "output_type": "stream",
          "text": [
            "Mounted at /content/drive\n"
          ],
          "name": "stdout"
        }
      ]
    },
    {
      "cell_type": "markdown",
      "metadata": {
        "id": "66TFtzlu0n8O"
      },
      "source": [
        "## I happen to have an existing .py file in google Drive."
      ]
    },
    {
      "cell_type": "code",
      "metadata": {
        "id": "AdULhsaToPi5",
        "colab": {
          "base_uri": "https://localhost:8080/"
        },
        "outputId": "be38345a-d22e-40b3-8ea8-b62bfc84ac3c"
      },
      "source": [
        "!ls /content/drive/MyDrive/Colab\\ Notebooks/*.py"
      ],
      "execution_count": null,
      "outputs": [
        {
          "output_type": "stream",
          "text": [
            "'/content/drive/MyDrive/Colab Notebooks/plt_bar.py'\n",
            "'/content/drive/MyDrive/Colab Notebooks/plt_img.py'\n"
          ],
          "name": "stdout"
        }
      ]
    },
    {
      "cell_type": "code",
      "metadata": {
        "id": "NFiFHyt3ullX"
      },
      "source": [
        "!cat '/content/drive/MyDrive/Colab Notebooks/plt_img.py'"
      ],
      "execution_count": null,
      "outputs": []
    },
    {
      "cell_type": "markdown",
      "metadata": {
        "id": "FtgV9xOq071e"
      },
      "source": [
        "## 2) We'll need to update our path to import from Drive."
      ]
    },
    {
      "cell_type": "code",
      "metadata": {
        "id": "zpXV1lTPpkD6"
      },
      "source": [
        "import sys\r\n",
        "sys.path.append('/content/drive/MyDrive/Colab Notebooks/')\r\n"
      ],
      "execution_count": null,
      "outputs": []
    },
    {
      "cell_type": "markdown",
      "metadata": {
        "id": "AocZIsWK1Fi2"
      },
      "source": [
        "## 3)Now, we can be able to import our modules or files stuff from drive"
      ]
    },
    {
      "cell_type": "code",
      "metadata": {
        "id": "B46Ewp9tqJYd",
        "colab": {
          "base_uri": "https://localhost:8080/"
        },
        "outputId": "a73f73c2-41ea-4cf5-fc2d-b2a076f61639"
      },
      "source": [
        "# *.py\r\n",
        "from plt_img import plt_img\r\n",
        "\r\n",
        "# *.ipynb\r\n",
        "!cp -r \"/content/drive/MyDrive/Colab Notebooks/plt_img.ipynb\" '/content/'"
      ],
      "execution_count": null,
      "outputs": [
        {
          "output_type": "stream",
          "text": [
            "ERROR:root:File `'./plt_img.ipynb.py'` not found.\n"
          ],
          "name": "stderr"
        }
      ]
    },
    {
      "cell_type": "code",
      "metadata": {
        "id": "PZ312TzVrQtk"
      },
      "source": [
        ""
      ],
      "execution_count": null,
      "outputs": []
    }
  ]
}